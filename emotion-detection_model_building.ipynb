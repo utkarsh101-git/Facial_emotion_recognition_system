{
 "cells": [
  {
   "cell_type": "markdown",
   "metadata": {},
   "source": [
    "# Importing libraries\n",
    "## Tensorflow framework to load the data, building and training the model"
   ]
  },
  {
   "cell_type": "code",
   "execution_count": 1,
   "metadata": {
    "execution": {
     "iopub.execute_input": "2021-12-21T12:56:20.454262Z",
     "iopub.status.busy": "2021-12-21T12:56:20.453947Z",
     "iopub.status.idle": "2021-12-21T12:56:24.731862Z",
     "shell.execute_reply": "2021-12-21T12:56:24.731114Z",
     "shell.execute_reply.started": "2021-12-21T12:56:20.454171Z"
    }
   },
   "outputs": [
    {
     "ename": "ModuleNotFoundError",
     "evalue": "No module named 'keras'",
     "output_type": "error",
     "traceback": [
      "\u001b[1;31m---------------------------------------------------------------------------\u001b[0m",
      "\u001b[1;31mModuleNotFoundError\u001b[0m                       Traceback (most recent call last)",
      "\u001b[1;32m<ipython-input-1-1df97bac8922>\u001b[0m in \u001b[0;36m<module>\u001b[1;34m\u001b[0m\n\u001b[0;32m      1\u001b[0m \u001b[1;32mimport\u001b[0m \u001b[0mtensorflow\u001b[0m \u001b[1;32mas\u001b[0m \u001b[0mtf\u001b[0m\u001b[1;33m\u001b[0m\u001b[1;33m\u001b[0m\u001b[0m\n\u001b[0;32m      2\u001b[0m \u001b[1;32mfrom\u001b[0m \u001b[0mtensorflow\u001b[0m \u001b[1;32mimport\u001b[0m \u001b[0mkeras\u001b[0m\u001b[1;33m\u001b[0m\u001b[1;33m\u001b[0m\u001b[0m\n\u001b[1;32m----> 3\u001b[1;33m \u001b[1;32mfrom\u001b[0m \u001b[0mkeras\u001b[0m \u001b[1;32mimport\u001b[0m \u001b[0mlayers\u001b[0m\u001b[1;33m\u001b[0m\u001b[1;33m\u001b[0m\u001b[0m\n\u001b[0m\u001b[0;32m      4\u001b[0m \u001b[1;32mfrom\u001b[0m \u001b[0mkeras\u001b[0m\u001b[1;33m.\u001b[0m\u001b[0mpreprocessing\u001b[0m\u001b[1;33m.\u001b[0m\u001b[0mimage\u001b[0m \u001b[1;32mimport\u001b[0m \u001b[0mImageDataGenerator\u001b[0m\u001b[1;33m,\u001b[0m\u001b[0mimage\u001b[0m\u001b[1;33m\u001b[0m\u001b[1;33m\u001b[0m\u001b[0m\n\u001b[0;32m      5\u001b[0m \u001b[1;33m\u001b[0m\u001b[0m\n",
      "\u001b[1;31mModuleNotFoundError\u001b[0m: No module named 'keras'"
     ]
    }
   ],
   "source": [
    "import tensorflow as tf\n",
    "from tensorflow import keras\n",
    "from keras import layers\n",
    "from keras.preprocessing.image import ImageDataGenerator,image\n",
    "\n",
    "import matplotlib.pyplot as plt\n",
    "import os\n",
    "import numpy as np"
   ]
  },
  {
   "cell_type": "markdown",
   "metadata": {},
   "source": [
    "# loading training data"
   ]
  },
  {
   "cell_type": "code",
   "execution_count": 2,
   "metadata": {
    "execution": {
     "iopub.execute_input": "2021-12-21T12:56:35.834274Z",
     "iopub.status.busy": "2021-12-21T12:56:35.833996Z",
     "iopub.status.idle": "2021-12-21T12:56:45.786058Z",
     "shell.execute_reply": "2021-12-21T12:56:45.785306Z",
     "shell.execute_reply.started": "2021-12-21T12:56:35.834241Z"
    }
   },
   "outputs": [],
   "source": [
    "train_datagen = ImageDataGenerator(rescale = 1./255,\n",
    "                                   shear_range = 0.3,\n",
    "                                   zoom_range = 0.3,\n",
    "                                   horizontal_flip = True)\n",
    "training_set = train_datagen.flow_from_directory('../input/emotion-detection-fer/train',\n",
    "                                                 target_size = (48, 48),\n",
    "                                                 batch_size = 128,\n",
    "                                                 color_mode='grayscale',\n",
    "                                                 class_mode = 'categorical')"
   ]
  },
  {
   "cell_type": "code",
   "execution_count": 3,
   "metadata": {
    "execution": {
     "iopub.execute_input": "2021-12-21T12:56:54.530479Z",
     "iopub.status.busy": "2021-12-21T12:56:54.530206Z",
     "iopub.status.idle": "2021-12-21T12:56:54.537445Z",
     "shell.execute_reply": "2021-12-21T12:56:54.536718Z",
     "shell.execute_reply.started": "2021-12-21T12:56:54.530448Z"
    }
   },
   "outputs": [],
   "source": [
    "training_set.class_indices"
   ]
  },
  {
   "cell_type": "code",
   "execution_count": 4,
   "metadata": {
    "execution": {
     "iopub.execute_input": "2021-12-21T12:56:57.589650Z",
     "iopub.status.busy": "2021-12-21T12:56:57.589087Z",
     "iopub.status.idle": "2021-12-21T12:56:57.594884Z",
     "shell.execute_reply": "2021-12-21T12:56:57.594214Z",
     "shell.execute_reply.started": "2021-12-21T12:56:57.589611Z"
    }
   },
   "outputs": [],
   "source": [
    "training_set.color_mode"
   ]
  },
  {
   "cell_type": "markdown",
   "metadata": {},
   "source": [
    "# loading the testing data"
   ]
  },
  {
   "cell_type": "code",
   "execution_count": 5,
   "metadata": {
    "execution": {
     "iopub.execute_input": "2021-12-21T12:57:01.049621Z",
     "iopub.status.busy": "2021-12-21T12:57:01.049069Z",
     "iopub.status.idle": "2021-12-21T12:57:02.553205Z",
     "shell.execute_reply": "2021-12-21T12:57:02.552464Z",
     "shell.execute_reply.started": "2021-12-21T12:57:01.049582Z"
    }
   },
   "outputs": [],
   "source": [
    "test_datagen = ImageDataGenerator(rescale = 1./255)\n",
    "test_set = test_datagen.flow_from_directory('../input/emotion-detection-fer/test',\n",
    "                                            target_size = (48, 48),\n",
    "                                            batch_size = 50,\n",
    "                                            color_mode='grayscale',\n",
    "                                            class_mode = 'categorical')"
   ]
  },
  {
   "cell_type": "code",
   "execution_count": 6,
   "metadata": {
    "execution": {
     "iopub.execute_input": "2021-12-21T12:57:03.089559Z",
     "iopub.status.busy": "2021-12-21T12:57:03.088985Z",
     "iopub.status.idle": "2021-12-21T12:57:03.094841Z",
     "shell.execute_reply": "2021-12-21T12:57:03.094100Z",
     "shell.execute_reply.started": "2021-12-21T12:57:03.089520Z"
    }
   },
   "outputs": [],
   "source": [
    "test_set.class_indices"
   ]
  },
  {
   "cell_type": "code",
   "execution_count": 7,
   "metadata": {
    "execution": {
     "iopub.execute_input": "2021-12-21T12:57:04.177597Z",
     "iopub.status.busy": "2021-12-21T12:57:04.177048Z",
     "iopub.status.idle": "2021-12-21T12:57:04.182855Z",
     "shell.execute_reply": "2021-12-21T12:57:04.182021Z",
     "shell.execute_reply.started": "2021-12-21T12:57:04.177557Z"
    }
   },
   "outputs": [],
   "source": [
    "test_set.color_mode"
   ]
  },
  {
   "cell_type": "markdown",
   "metadata": {},
   "source": [
    "# Model1\n",
    "### 4 convolutional layers\n",
    "### 6 batchNormalization layers\n",
    "### 4 Max Pooling layer\n",
    "### 4 dropout layers\n",
    "### 3 dense layers"
   ]
  },
  {
   "cell_type": "code",
   "execution_count": null,
   "metadata": {
    "execution": {
     "iopub.execute_input": "2021-12-17T14:05:24.153487Z",
     "iopub.status.busy": "2021-12-17T14:05:24.153192Z",
     "iopub.status.idle": "2021-12-17T14:05:27.344235Z",
     "shell.execute_reply": "2021-12-17T14:05:27.343258Z",
     "shell.execute_reply.started": "2021-12-17T14:05:24.153454Z"
    }
   },
   "outputs": [],
   "source": [
    "ip = layers.Input(shape=(48,48,1))\n",
    "x = layers.Conv2D(filters=32,kernel_size=3,padding='same', activation='relu' )(ip)\n",
    "x = layers.BatchNormalization()(x)\n",
    "x = layers.Conv2D(filters=64,kernel_size=3,padding='same', activation='relu' )(x)\n",
    "x = layers.BatchNormalization()(x)  \n",
    "x = layers.MaxPooling2D(pool_size=(2,2) )(x)\n",
    "\n",
    "x = layers.Dropout(0.25)(x)\n",
    "\n",
    "x = layers.Conv2D(filters=128,kernel_size=3,padding='same', activation=\"relu\" )(x)\n",
    "x = layers.BatchNormalization()(x)\n",
    "x = layers.MaxPooling2D(pool_size=(2,2) )(x)\n",
    "x = layers.Conv2D(filters=128,kernel_size=3,padding='same', activation=\"relu\" )(x)\n",
    "x = layers.BatchNormalization()(x)\n",
    "x = layers.MaxPooling2D(pool_size=(2,2) )(x)\n",
    "\n",
    "x = layers.Dropout(0.25)(x)\n",
    "\n",
    "x = layers.Flatten()(x)\n",
    "x = layers.Dense(516, activation='relu')(x)\n",
    "x = layers.BatchNormalization()(x)\n",
    "x = layers.Dropout(0.25)(x)\n",
    "x = layers.Dense(128, activation='relu')(x)\n",
    "x = layers.BatchNormalization()(x)\n",
    "x = layers.Dropout(0.1)(x)\n",
    "op = layers.Dense(7, activation='sigmoid')(x)\n",
    "\n",
    "\n",
    "\n",
    "model = keras.Model(inputs=ip, outputs=op)"
   ]
  },
  {
   "cell_type": "code",
   "execution_count": null,
   "metadata": {
    "execution": {
     "iopub.execute_input": "2021-12-17T14:05:29.357347Z",
     "iopub.status.busy": "2021-12-17T14:05:29.356532Z",
     "iopub.status.idle": "2021-12-17T14:05:29.382072Z",
     "shell.execute_reply": "2021-12-17T14:05:29.381163Z",
     "shell.execute_reply.started": "2021-12-17T14:05:29.357315Z"
    }
   },
   "outputs": [],
   "source": [
    "model.save_weights()"
   ]
  },
  {
   "cell_type": "code",
   "execution_count": null,
   "metadata": {
    "execution": {
     "iopub.execute_input": "2021-12-17T14:06:11.241062Z",
     "iopub.status.busy": "2021-12-17T14:06:11.240721Z",
     "iopub.status.idle": "2021-12-17T14:06:11.254166Z",
     "shell.execute_reply": "2021-12-17T14:06:11.253126Z",
     "shell.execute_reply.started": "2021-12-17T14:06:11.241031Z"
    }
   },
   "outputs": [],
   "source": [
    "model.compile(optimizer = tf.keras.optimizers.Adam(learning_rate=0.00025), loss = \"categorical_crossentropy\", metrics = ['accuracy'])"
   ]
  },
  {
   "cell_type": "code",
   "execution_count": null,
   "metadata": {
    "execution": {
     "iopub.execute_input": "2021-12-17T14:06:13.312287Z",
     "iopub.status.busy": "2021-12-17T14:06:13.311994Z",
     "iopub.status.idle": "2021-12-17T14:31:14.464799Z",
     "shell.execute_reply": "2021-12-17T14:31:14.463898Z",
     "shell.execute_reply.started": "2021-12-17T14:06:13.312257Z"
    }
   },
   "outputs": [],
   "source": [
    "model.fit(x =training_set, validation_data =test_set, epochs = 35)"
   ]
  },
  {
   "cell_type": "code",
   "execution_count": null,
   "metadata": {
    "execution": {
     "iopub.execute_input": "2021-12-17T14:31:49.993157Z",
     "iopub.status.busy": "2021-12-17T14:31:49.992848Z",
     "iopub.status.idle": "2021-12-17T14:31:50.068172Z",
     "shell.execute_reply": "2021-12-17T14:31:50.067259Z",
     "shell.execute_reply.started": "2021-12-17T14:31:49.993127Z"
    }
   },
   "outputs": [],
   "source": [
    "model.save_weights(\"increased_acc_67_63.h5\")"
   ]
  },
  {
   "cell_type": "markdown",
   "metadata": {},
   "source": [
    "# Model2\n",
    "### 4 convolutional layers\n",
    "### 4 batchNormalization layers\n",
    "### 3 Max Pooling layer\n",
    "### 3 dropout layers\n",
    "### 2 dense layers"
   ]
  },
  {
   "cell_type": "code",
   "execution_count": null,
   "metadata": {
    "execution": {
     "iopub.execute_input": "2021-12-17T14:34:24.318176Z",
     "iopub.status.busy": "2021-12-17T14:34:24.317746Z",
     "iopub.status.idle": "2021-12-17T14:34:24.451455Z",
     "shell.execute_reply": "2021-12-17T14:34:24.450439Z",
     "shell.execute_reply.started": "2021-12-17T14:34:24.31813Z"
    }
   },
   "outputs": [],
   "source": [
    "ip = layers.Input(shape=(48,48,1))\n",
    "x = layers.Conv2D(filters=32,kernel_size=3,padding='same', activation='relu' )(ip)\n",
    "x = layers.Conv2D(filters=64,kernel_size=3,padding='same', activation='relu' )(x)\n",
    "x = layers.BatchNormalization()(x)  \n",
    "x = layers.MaxPooling2D(pool_size=(2,2) )(x)\n",
    "\n",
    "x = layers.Dropout(0.25)(x)\n",
    "\n",
    "x = layers.Conv2D(filters=128,kernel_size=3,padding='same', activation=\"relu\" )(x)\n",
    "x = layers.BatchNormalization()(x)\n",
    "x = layers.MaxPooling2D(pool_size=(2,2) )(x)\n",
    "x = layers.Conv2D(filters=128,kernel_size=3,padding='same', activation=\"relu\" )(x)\n",
    "x = layers.BatchNormalization()(x)\n",
    "x = layers.MaxPooling2D(pool_size=(2,2) )(x)\n",
    "\n",
    "x = layers.Dropout(0.25)(x)\n",
    "\n",
    "x = layers.Flatten()(x)\n",
    "x = layers.Dense(516, activation='relu')(x)\n",
    "x = layers.BatchNormalization()(x)\n",
    "x = layers.Dropout(0.25)(x)\n",
    "op = layers.Dense(7, activation='sigmoid')(x)\n",
    "\n",
    "\n",
    "\n",
    "model1 = keras.Model(inputs=ip, outputs=op)"
   ]
  },
  {
   "cell_type": "code",
   "execution_count": null,
   "metadata": {
    "execution": {
     "iopub.execute_input": "2021-12-17T14:34:31.159198Z",
     "iopub.status.busy": "2021-12-17T14:34:31.158297Z",
     "iopub.status.idle": "2021-12-17T14:34:31.180992Z",
     "shell.execute_reply": "2021-12-17T14:34:31.180123Z",
     "shell.execute_reply.started": "2021-12-17T14:34:31.159163Z"
    }
   },
   "outputs": [],
   "source": [
    "model1.summary()"
   ]
  },
  {
   "cell_type": "code",
   "execution_count": null,
   "metadata": {
    "execution": {
     "iopub.execute_input": "2021-12-17T14:34:47.678681Z",
     "iopub.status.busy": "2021-12-17T14:34:47.678363Z",
     "iopub.status.idle": "2021-12-17T14:56:45.667524Z",
     "shell.execute_reply": "2021-12-17T14:56:45.666659Z",
     "shell.execute_reply.started": "2021-12-17T14:34:47.678648Z"
    }
   },
   "outputs": [],
   "source": [
    "model1.compile(optimizer = tf.keras.optimizers.Adam(learning_rate=0.00025), loss = \"categorical_crossentropy\", metrics = ['accuracy'])\n",
    "model1.fit(x =training_set, validation_data =test_set, epochs = 35)"
   ]
  },
  {
   "cell_type": "code",
   "execution_count": null,
   "metadata": {
    "execution": {
     "iopub.execute_input": "2021-12-17T14:57:13.540977Z",
     "iopub.status.busy": "2021-12-17T14:57:13.540586Z",
     "iopub.status.idle": "2021-12-17T14:57:13.603924Z",
     "shell.execute_reply": "2021-12-17T14:57:13.602935Z",
     "shell.execute_reply.started": "2021-12-17T14:57:13.540945Z"
    }
   },
   "outputs": [],
   "source": [
    "model1.save_weights(\"increased_acc_67_62.h5\")"
   ]
  },
  {
   "cell_type": "markdown",
   "metadata": {},
   "source": [
    "# Model3\n",
    "### 6 convolutional layers\n",
    "### 6 batchNormalization layers\n",
    "### 3 Max Pooling layer\n",
    "### 4 dropout layers\n",
    "### 3 dense layers\n"
   ]
  },
  {
   "cell_type": "code",
   "execution_count": 14,
   "metadata": {
    "execution": {
     "iopub.execute_input": "2021-12-21T14:17:34.931957Z",
     "iopub.status.busy": "2021-12-21T14:17:34.931686Z",
     "iopub.status.idle": "2021-12-21T14:17:35.255695Z",
     "shell.execute_reply": "2021-12-21T14:17:35.254976Z",
     "shell.execute_reply.started": "2021-12-21T14:17:34.931921Z"
    }
   },
   "outputs": [],
   "source": [
    "ip = layers.Input(shape=(48,48,1))\n",
    "x = layers.Conv2D(filters=32,kernel_size=3,padding='same', activation='relu' )(ip)\n",
    "x = layers.BatchNormalization()(x)\n",
    "x = layers.Conv2D(filters=64,kernel_size=3,padding='same', activation='relu' )(x)\n",
    "x = layers.BatchNormalization()(x)  \n",
    "x = layers.MaxPooling2D(pool_size=(2,2) )(x)\n",
    "\n",
    "x = layers.Dropout(0.5)(x)\n",
    "\n",
    "x = layers.Conv2D(filters=128,kernel_size=3,padding='same', activation=\"relu\" )(x)\n",
    "x = layers.BatchNormalization()(x)\n",
    "x = layers.Conv2D(filters=128,kernel_size=3,padding='same', activation=\"relu\" )(x)\n",
    "x = layers.BatchNormalization()(x)\n",
    "x = layers.MaxPooling2D(pool_size=(2,2) )(x)\n",
    "\n",
    "x = layers.Conv2D(filters=256,kernel_size=3,padding='same', activation=\"relu\" )(x)\n",
    "x = layers.BatchNormalization()(x)\n",
    "x = layers.Conv2D(filters=256,kernel_size=3,padding='same', activation=\"relu\" )(x)\n",
    "x = layers.BatchNormalization()(x)\n",
    "x = layers.MaxPooling2D(pool_size=(2,2) )(x)\n",
    "\n",
    "\n",
    "x = layers.Dropout(0.5)(x)\n",
    "\n",
    "x = layers.Flatten()(x)\n",
    "x = layers.Dense(516, activation='relu')(x)\n",
    "x = layers.BatchNormalization()(x)\n",
    "x = layers.Dropout(0.25)(x)\n",
    "x = layers.Dense(128, activation='relu')(x)\n",
    "x = layers.BatchNormalization()(x)\n",
    "x = layers.Dropout(0.1)(x)\n",
    "op = layers.Dense(7, activation='sigmoid')(x)\n",
    "\n",
    "\n",
    "\n",
    "model2 = keras.Model(inputs=ip, outputs=op)"
   ]
  },
  {
   "cell_type": "code",
   "execution_count": 15,
   "metadata": {
    "execution": {
     "iopub.execute_input": "2021-12-21T14:17:38.447293Z",
     "iopub.status.busy": "2021-12-21T14:17:38.447008Z",
     "iopub.status.idle": "2021-12-21T14:17:38.467643Z",
     "shell.execute_reply": "2021-12-21T14:17:38.466905Z",
     "shell.execute_reply.started": "2021-12-21T14:17:38.447262Z"
    }
   },
   "outputs": [],
   "source": [
    "model2.summary()"
   ]
  },
  {
   "cell_type": "code",
   "execution_count": 16,
   "metadata": {
    "execution": {
     "iopub.execute_input": "2021-12-21T14:17:49.043328Z",
     "iopub.status.busy": "2021-12-21T14:17:49.043065Z",
     "iopub.status.idle": "2021-12-21T15:06:55.400958Z",
     "shell.execute_reply": "2021-12-21T15:06:55.400235Z",
     "shell.execute_reply.started": "2021-12-21T14:17:49.043297Z"
    }
   },
   "outputs": [],
   "source": [
    "model2.compile(optimizer = tf.keras.optimizers.Adam(learning_rate=0.00025), loss = \"categorical_crossentropy\", metrics = ['accuracy'])\n",
    "model2.fit(x =training_set, validation_data =test_set, epochs = 80)"
   ]
  },
  {
   "cell_type": "code",
   "execution_count": 18,
   "metadata": {
    "execution": {
     "iopub.execute_input": "2021-12-21T15:06:55.497458Z",
     "iopub.status.busy": "2021-12-21T15:06:55.497181Z",
     "iopub.status.idle": "2021-12-21T15:06:55.597679Z",
     "shell.execute_reply": "2021-12-21T15:06:55.596823Z",
     "shell.execute_reply.started": "2021-12-21T15:06:55.497418Z"
    }
   },
   "outputs": [],
   "source": [
    "model2.save_weights(\"increased_acc_73_66.h5\")"
   ]
  },
  {
   "cell_type": "code",
   "execution_count": 19,
   "metadata": {
    "execution": {
     "iopub.execute_input": "2021-12-21T15:06:55.602501Z",
     "iopub.status.busy": "2021-12-21T15:06:55.602224Z",
     "iopub.status.idle": "2021-12-21T15:06:55.758678Z",
     "shell.execute_reply": "2021-12-21T15:06:55.757948Z",
     "shell.execute_reply.started": "2021-12-21T15:06:55.602469Z"
    }
   },
   "outputs": [],
   "source": [
    "ip = layers.Input(shape=(48,48,1))\n",
    "x = layers.Conv2D(filters=32,kernel_size=3,padding='same', activation='relu' )(ip)\n",
    "x = layers.BatchNormalization()(x)\n",
    "x = layers.Conv2D(filters=64,kernel_size=3,padding='same', activation='relu' )(x)\n",
    "x = layers.BatchNormalization()(x)  \n",
    "x = layers.MaxPooling2D(pool_size=(2,2) )(x)\n",
    "\n",
    "x = layers.Dropout(0.5)(x)\n",
    "\n",
    "x = layers.Conv2D(filters=128,kernel_size=3,padding='same', activation=\"relu\" )(x)\n",
    "x = layers.BatchNormalization()(x)\n",
    "x = layers.Conv2D(filters=128,kernel_size=3,padding='same', activation=\"relu\" )(x)\n",
    "x = layers.BatchNormalization()(x)\n",
    "x = layers.MaxPooling2D(pool_size=(2,2) )(x)\n",
    "\n",
    "x = layers.Conv2D(filters=256,kernel_size=3,padding='same', activation=\"relu\" )(x)\n",
    "x = layers.BatchNormalization()(x)\n",
    "x = layers.Conv2D(filters=256,kernel_size=3,padding='same', activation=\"relu\" )(x)\n",
    "x = layers.BatchNormalization()(x)\n",
    "x = layers.MaxPooling2D(pool_size=(2,2) )(x)\n",
    "\n",
    "\n",
    "x = layers.Dropout(0.5)(x)\n",
    "\n",
    "x = layers.Flatten()(x)\n",
    "x = layers.Dense(516, activation='relu')(x)\n",
    "x = layers.BatchNormalization()(x)\n",
    "x = layers.Dropout(0.25)(x)\n",
    "x = layers.Dense(128, activation='relu')(x)\n",
    "x = layers.BatchNormalization()(x)\n",
    "x = layers.Dropout(0.1)(x)\n",
    "op = layers.Dense(7, activation='sigmoid')(x)\n",
    "\n",
    "\n",
    "\n",
    "model2_lr = keras.Model(inputs=ip, outputs=op)"
   ]
  },
  {
   "cell_type": "code",
   "execution_count": 20,
   "metadata": {
    "execution": {
     "iopub.execute_input": "2021-12-21T15:06:55.761921Z",
     "iopub.status.busy": "2021-12-21T15:06:55.761706Z",
     "iopub.status.idle": "2021-12-21T15:56:18.140925Z",
     "shell.execute_reply": "2021-12-21T15:56:18.140175Z",
     "shell.execute_reply.started": "2021-12-21T15:06:55.761896Z"
    }
   },
   "outputs": [],
   "source": [
    "model2_lr.compile(optimizer = tf.keras.optimizers.Adam(learning_rate=0.0025), loss = \"categorical_crossentropy\", metrics = ['accuracy'])\n",
    "model2_lr.fit(x =training_set, validation_data =test_set, epochs = 80)"
   ]
  },
  {
   "cell_type": "code",
   "execution_count": 23,
   "metadata": {
    "execution": {
     "iopub.execute_input": "2021-12-21T16:18:48.536407Z",
     "iopub.status.busy": "2021-12-21T16:18:48.536139Z",
     "iopub.status.idle": "2021-12-21T16:18:48.611872Z",
     "shell.execute_reply": "2021-12-21T16:18:48.611129Z",
     "shell.execute_reply.started": "2021-12-21T16:18:48.536360Z"
    }
   },
   "outputs": [],
   "source": [
    "model2_lr.save_weights(\"__model_73_more_dp.h5\")"
   ]
  },
  {
   "cell_type": "markdown",
   "metadata": {},
   "source": [
    "# Model4(final model)\n",
    "### 6 convolutional layers\n",
    "### 8 batchNormalization layers\n",
    "### 2 Max Pooling layer\n",
    "### 4 dropout layers\n",
    "### 3 dense layers "
   ]
  },
  {
   "cell_type": "code",
   "execution_count": 8,
   "metadata": {
    "execution": {
     "iopub.execute_input": "2021-12-21T12:57:11.455066Z",
     "iopub.status.busy": "2021-12-21T12:57:11.454805Z",
     "iopub.status.idle": "2021-12-21T12:57:13.621064Z",
     "shell.execute_reply": "2021-12-21T12:57:13.619423Z",
     "shell.execute_reply.started": "2021-12-21T12:57:11.455038Z"
    }
   },
   "outputs": [],
   "source": [
    "ip = layers.Input(shape=(48,48,1))\n",
    "x = layers.Conv2D(filters=32,kernel_size=3,padding='same', activation='relu' )(ip)\n",
    "x = layers.BatchNormalization()(x)\n",
    "x = layers.Conv2D(filters=64,kernel_size=3,padding='same', activation='relu' )(x)\n",
    "x = layers.BatchNormalization()(x)  \n",
    "x = layers.MaxPooling2D(pool_size=(2,2) )(x)\n",
    "\n",
    "x = layers.Dropout(0.25)(x)\n",
    "\n",
    "x = layers.Conv2D(filters=128,kernel_size=3,padding='same', activation=\"relu\" )(x)\n",
    "x = layers.BatchNormalization()(x)\n",
    "x = layers.Conv2D(filters=128,kernel_size=3,padding='same', activation=\"relu\" )(x)\n",
    "x = layers.BatchNormalization()(x)\n",
    "x = layers.MaxPooling2D(pool_size=(2,2) )(x)\n",
    "\n",
    "x = layers.Conv2D(filters=256,kernel_size=3,padding='same', activation=\"relu\" )(x)\n",
    "x = layers.BatchNormalization()(x)\n",
    "x = layers.Conv2D(filters=256,kernel_size=3,padding='same', activation=\"relu\" )(x)\n",
    "x = layers.BatchNormalization()(x)\n",
    "\n",
    "x = layers.Dropout(0.25)(x)\n",
    "\n",
    "x = layers.Flatten()(x)\n",
    "x = layers.Dense(516, activation='relu')(x)\n",
    "x = layers.BatchNormalization()(x)\n",
    "x = layers.Dropout(0.25)(x)\n",
    "x = layers.Dense(128, activation='relu')(x)\n",
    "x = layers.BatchNormalization()(x)\n",
    "x = layers.Dropout(0.1)(x)\n",
    "op = layers.Dense(7, activation='sigmoid')(x)\n",
    "\n",
    "\n",
    "\n",
    "model3 = keras.Model(inputs=ip, outputs=op)"
   ]
  },
  {
   "cell_type": "code",
   "execution_count": 9,
   "metadata": {
    "execution": {
     "iopub.execute_input": "2021-12-21T12:57:20.550886Z",
     "iopub.status.busy": "2021-12-21T12:57:20.550259Z",
     "iopub.status.idle": "2021-12-21T12:57:20.571999Z",
     "shell.execute_reply": "2021-12-21T12:57:20.571189Z",
     "shell.execute_reply.started": "2021-12-21T12:57:20.550843Z"
    }
   },
   "outputs": [],
   "source": [
    "model3.summary()"
   ]
  },
  {
   "cell_type": "code",
   "execution_count": 10,
   "metadata": {
    "execution": {
     "iopub.execute_input": "2021-12-21T12:57:32.749981Z",
     "iopub.status.busy": "2021-12-21T12:57:32.749531Z",
     "iopub.status.idle": "2021-12-21T13:48:48.078665Z",
     "shell.execute_reply": "2021-12-21T13:48:48.067468Z",
     "shell.execute_reply.started": "2021-12-21T12:57:32.749943Z"
    }
   },
   "outputs": [],
   "source": [
    "model3.compile(optimizer = tf.keras.optimizers.Adam(learning_rate=0.00025), loss = \"categorical_crossentropy\", metrics = ['accuracy'])\n",
    "model3.fit(x =training_set, validation_data =test_set, epochs = 80)"
   ]
  },
  {
   "cell_type": "code",
   "execution_count": 21,
   "metadata": {
    "execution": {
     "iopub.execute_input": "2021-12-21T16:16:01.347416Z",
     "iopub.status.busy": "2021-12-21T16:16:01.347130Z",
     "iopub.status.idle": "2021-12-21T16:16:01.546957Z",
     "shell.execute_reply": "2021-12-21T16:16:01.546241Z",
     "shell.execute_reply.started": "2021-12-21T16:16:01.347361Z"
    }
   },
   "outputs": [],
   "source": [
    "model3.save_weights(\"increased_acc_82_66.h5\")"
   ]
  },
  {
   "cell_type": "code",
   "execution_count": null,
   "metadata": {
    "execution": {
     "iopub.execute_input": "2021-12-18T13:43:21.778257Z",
     "iopub.status.busy": "2021-12-18T13:43:21.777973Z",
     "iopub.status.idle": "2021-12-18T13:43:21.786771Z",
     "shell.execute_reply": "2021-12-18T13:43:21.783956Z",
     "shell.execute_reply.started": "2021-12-18T13:43:21.778228Z"
    }
   },
   "outputs": [],
   "source": [
    "#for layer in model3.layers:\n",
    "#    print(layer)\n",
    "    \n",
    "#4  10 15\n",
    "print(model3.layers[4])\n",
    "print(model3.layers[10])\n",
    "print(model3.layers[15])"
   ]
  },
  {
   "cell_type": "markdown",
   "metadata": {},
   "source": [
    "# Visualization of extracted features "
   ]
  },
  {
   "cell_type": "code",
   "execution_count": 24,
   "metadata": {
    "execution": {
     "iopub.execute_input": "2021-12-21T16:26:31.007144Z",
     "iopub.status.busy": "2021-12-21T16:26:31.006633Z",
     "iopub.status.idle": "2021-12-21T16:26:31.018076Z",
     "shell.execute_reply": "2021-12-21T16:26:31.017272Z",
     "shell.execute_reply.started": "2021-12-21T16:26:31.007109Z"
    }
   },
   "outputs": [],
   "source": [
    "dir_path='../input/emotion-detection-fer/test/happy'\n",
    "file_name = os.listdir(dir_path)[0]\n",
    "\n",
    "sample_img = image.load_img( os.path.join(dir_path,file_name),target_size=(48,48),color_mode=\"grayscale\")"
   ]
  },
  {
   "cell_type": "code",
   "execution_count": 25,
   "metadata": {
    "execution": {
     "iopub.execute_input": "2021-12-21T16:26:32.638241Z",
     "iopub.status.busy": "2021-12-21T16:26:32.637777Z",
     "iopub.status.idle": "2021-12-21T16:26:32.644535Z",
     "shell.execute_reply": "2021-12-21T16:26:32.643811Z",
     "shell.execute_reply.started": "2021-12-21T16:26:32.638203Z"
    }
   },
   "outputs": [],
   "source": [
    "def preprocess(img):\n",
    "    img_arr = image.img_to_array(sample_img)\n",
    "    return np.expand_dims(img_arr,axis=0)\n",
    "\n",
    "def get_ops(img_arr,layer_ind):\n",
    "    x = img_arr/255\n",
    "    for layer in model3.layers[:layer_ind+1]:\n",
    "        x=layer(x, training=False)\n",
    "        \n",
    "    return x\n",
    "        "
   ]
  },
  {
   "cell_type": "code",
   "execution_count": 26,
   "metadata": {
    "execution": {
     "iopub.execute_input": "2021-12-21T16:26:34.347887Z",
     "iopub.status.busy": "2021-12-21T16:26:34.347108Z",
     "iopub.status.idle": "2021-12-21T16:26:36.875979Z",
     "shell.execute_reply": "2021-12-21T16:26:36.875300Z",
     "shell.execute_reply.started": "2021-12-21T16:26:34.347834Z"
    }
   },
   "outputs": [],
   "source": [
    "ops_conv1 = get_ops(preprocess(sample_img),4)\n",
    "\n",
    "rows=2\n",
    "columns=10\n",
    "\n",
    "plt.imshow(sample_img,cmap=\"gray\")\n",
    "plt.title(\"original_img\")\n",
    "plt.axis(\"off\")\n",
    "plt.show()\n",
    "\n",
    "\n",
    "\n",
    "fig_1 = plt.figure(figsize=(10,3))\n",
    "\n",
    "plt.title(\"outputs after 1st block of convolutional layers\")\n",
    "for i in range(1,21):\n",
    "    fig_1.add_subplot(rows,columns,i)\n",
    "    plt.imshow(ops_conv1[0,:,:,i])\n",
    "    plt.axis(\"off\")\n",
    "    \n",
    "plt.show()\n",
    "\n",
    "\n",
    "\n",
    "ops_conv2 = get_ops(preprocess(sample_img),10)\n",
    "\n",
    "fig_2 = plt.figure(figsize=(10,3))\n",
    "\n",
    "plt.title(\"outputs after 2nd block of convolutional layers\")\n",
    "for i in range(1,21):\n",
    "    fig_2.add_subplot(rows,columns,i)\n",
    "    plt.imshow(ops_conv2[0,:,:,i])\n",
    "    plt.axis(\"off\")\n",
    "    \n",
    "plt.show()\n",
    "\n",
    "\n",
    "\n",
    "ops_conv3 = get_ops(preprocess(sample_img),15)\n",
    "\n",
    "fig_3 = plt.figure(figsize=(10,3))\n",
    "\n",
    "plt.title(\"outputs after 3rd block of convolutional layers\")\n",
    "for i in range(1,21):\n",
    "    fig_3.add_subplot(rows,columns,i)\n",
    "    plt.imshow(ops_conv3[0,:,:,i])\n",
    "    plt.axis(\"off\")\n",
    "    \n",
    "plt.show()"
   ]
  }
 ],
 "metadata": {
  "kernelspec": {
   "display_name": "Python 3",
   "language": "python",
   "name": "python3"
  },
  "language_info": {
   "codemirror_mode": {
    "name": "ipython",
    "version": 3
   },
   "file_extension": ".py",
   "mimetype": "text/x-python",
   "name": "python",
   "nbconvert_exporter": "python",
   "pygments_lexer": "ipython3",
   "version": "3.8.3"
  }
 },
 "nbformat": 4,
 "nbformat_minor": 4
}
